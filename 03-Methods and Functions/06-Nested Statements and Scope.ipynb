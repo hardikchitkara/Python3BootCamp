{
 "cells": [
  {
   "cell_type": "code",
   "execution_count": 1,
   "metadata": {},
   "outputs": [],
   "source": [
    "x = 50\n",
    "\n",
    "def printer():\n",
    "    x = 25\n",
    "    return x"
   ]
  },
  {
   "cell_type": "code",
   "execution_count": 2,
   "metadata": {},
   "outputs": [
    {
     "name": "stdout",
     "output_type": "stream",
     "text": [
      "50\n",
      "25\n"
     ]
    }
   ],
   "source": [
    "print(x)\n",
    "print(printer())"
   ]
  },
  {
   "cell_type": "markdown",
   "metadata": {},
   "source": [
    "### LEGB Rule:\n",
    "Order in which python looks for variables:\n",
    "\n",
    "1) L : Local\n",
    "\n",
    "2) E : Enclosing function locals (def or lambda)\n",
    "\n",
    "3) G : Global (Module)\n",
    "\n",
    "4) B : Built-in (Python)"
   ]
  },
  {
   "cell_type": "code",
   "execution_count": 3,
   "metadata": {},
   "outputs": [
    {
     "name": "stdout",
     "output_type": "stream",
     "text": [
      "Hello Sam\n"
     ]
    }
   ],
   "source": [
    "# Enclosing Function Locals\n",
    "name = 'This is a Global String'\n",
    "\n",
    "def greet():\n",
    "    # This enclosing function var is found when python searches for 'name'\n",
    "    name = 'Sam'\n",
    "    \n",
    "    def hello():\n",
    "        # Function inside function\n",
    "        print('Hello ' + name)\n",
    "        # no local 'name'\n",
    "    hello()\n",
    "\n",
    "greet()"
   ]
  },
  {
   "cell_type": "code",
   "execution_count": 4,
   "metadata": {},
   "outputs": [
    {
     "data": {
      "text/plain": [
       "'This is a Global String'"
      ]
     },
     "execution_count": 4,
     "metadata": {},
     "output_type": "execute_result"
    }
   ],
   "source": [
    "name"
   ]
  },
  {
   "cell_type": "code",
   "execution_count": 6,
   "metadata": {},
   "outputs": [
    {
     "name": "stdout",
     "output_type": "stream",
     "text": [
      "X is 50\n",
      "I just locally changed x to 100\n",
      "Global x is 50\n"
     ]
    }
   ],
   "source": [
    "# Global\n",
    "x = 50\n",
    "\n",
    "def func(x):\n",
    "    print(f'X is {x}')\n",
    "    \n",
    "    x = 100\n",
    "    print(f'I just locally changed x to {x}')\n",
    "    \n",
    "func(x)\n",
    "print(f'Global x is {x}')"
   ]
  },
  {
   "cell_type": "code",
   "execution_count": 9,
   "metadata": {},
   "outputs": [
    {
     "name": "stdout",
     "output_type": "stream",
     "text": [
      "X is 50\n",
      "I just locally changed x to 100\n",
      "Global x is changed to 100\n"
     ]
    }
   ],
   "source": [
    "# Changing the Global var\n",
    "x = 50\n",
    "\n",
    "def func():\n",
    "    global x\n",
    "    # Instead of accepting x an input, x is declared global\n",
    "    \n",
    "    print(f'X is {x}')\n",
    "    \n",
    "    x = 100\n",
    "    print(f'I just locally changed x to {x}')\n",
    "    \n",
    "func()\n",
    "print(f'Global x is changed to {x}')"
   ]
  },
  {
   "cell_type": "code",
   "execution_count": null,
   "metadata": {},
   "outputs": [],
   "source": []
  }
 ],
 "metadata": {
  "kernelspec": {
   "display_name": "Python 3",
   "language": "python",
   "name": "python3"
  },
  "language_info": {
   "codemirror_mode": {
    "name": "ipython",
    "version": 3
   },
   "file_extension": ".py",
   "mimetype": "text/x-python",
   "name": "python",
   "nbconvert_exporter": "python",
   "pygments_lexer": "ipython3",
   "version": "3.7.3"
  }
 },
 "nbformat": 4,
 "nbformat_minor": 2
}
